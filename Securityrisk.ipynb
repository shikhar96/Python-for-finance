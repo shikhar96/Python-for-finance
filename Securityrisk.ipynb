{
 "cells": [
  {
   "cell_type": "code",
   "execution_count": 1,
   "metadata": {},
   "outputs": [],
   "source": [
    "#Importing packages\n",
    "import numpy as np\n",
    "import pandas as pd\n",
    "import matplotlib.pyplot as plt\n",
    "from pandas_datareader import data as wb"
   ]
  },
  {
   "cell_type": "code",
   "execution_count": 2,
   "metadata": {},
   "outputs": [
    {
     "data": {
      "text/html": [
       "<div>\n",
       "<style>\n",
       "    .dataframe thead tr:only-child th {\n",
       "        text-align: right;\n",
       "    }\n",
       "\n",
       "    .dataframe thead th {\n",
       "        text-align: left;\n",
       "    }\n",
       "\n",
       "    .dataframe tbody tr th {\n",
       "        vertical-align: top;\n",
       "    }\n",
       "</style>\n",
       "<table border=\"1\" class=\"dataframe\">\n",
       "  <thead>\n",
       "    <tr style=\"text-align: right;\">\n",
       "      <th></th>\n",
       "      <th>Open</th>\n",
       "      <th>High</th>\n",
       "      <th>Low</th>\n",
       "      <th>Close</th>\n",
       "      <th>Adj Close</th>\n",
       "      <th>Volume</th>\n",
       "    </tr>\n",
       "    <tr>\n",
       "      <th>Date</th>\n",
       "      <th></th>\n",
       "      <th></th>\n",
       "      <th></th>\n",
       "      <th></th>\n",
       "      <th></th>\n",
       "      <th></th>\n",
       "    </tr>\n",
       "  </thead>\n",
       "  <tbody>\n",
       "    <tr>\n",
       "      <th>2010-01-04</th>\n",
       "      <td>9.45</td>\n",
       "      <td>9.45</td>\n",
       "      <td>9.45</td>\n",
       "      <td>9.45</td>\n",
       "      <td>9.45</td>\n",
       "      <td>0.0</td>\n",
       "    </tr>\n",
       "    <tr>\n",
       "      <th>2010-01-05</th>\n",
       "      <td>9.55</td>\n",
       "      <td>9.80</td>\n",
       "      <td>9.20</td>\n",
       "      <td>9.35</td>\n",
       "      <td>9.35</td>\n",
       "      <td>501754.0</td>\n",
       "    </tr>\n",
       "    <tr>\n",
       "      <th>2010-01-06</th>\n",
       "      <td>9.45</td>\n",
       "      <td>9.55</td>\n",
       "      <td>9.35</td>\n",
       "      <td>9.40</td>\n",
       "      <td>9.40</td>\n",
       "      <td>313310.0</td>\n",
       "    </tr>\n",
       "    <tr>\n",
       "      <th>2010-01-07</th>\n",
       "      <td>9.45</td>\n",
       "      <td>9.70</td>\n",
       "      <td>9.30</td>\n",
       "      <td>9.35</td>\n",
       "      <td>9.35</td>\n",
       "      <td>345350.0</td>\n",
       "    </tr>\n",
       "    <tr>\n",
       "      <th>2010-01-08</th>\n",
       "      <td>9.35</td>\n",
       "      <td>9.60</td>\n",
       "      <td>9.35</td>\n",
       "      <td>9.40</td>\n",
       "      <td>9.40</td>\n",
       "      <td>344954.0</td>\n",
       "    </tr>\n",
       "  </tbody>\n",
       "</table>\n",
       "</div>"
      ],
      "text/plain": [
       "            Open  High   Low  Close  Adj Close    Volume\n",
       "Date                                                    \n",
       "2010-01-04  9.45  9.45  9.45   9.45       9.45       0.0\n",
       "2010-01-05  9.55  9.80  9.20   9.35       9.35  501754.0\n",
       "2010-01-06  9.45  9.55  9.35   9.40       9.40  313310.0\n",
       "2010-01-07  9.45  9.70  9.30   9.35       9.35  345350.0\n",
       "2010-01-08  9.35  9.60  9.35   9.40       9.40  344954.0"
      ]
     },
     "execution_count": 2,
     "metadata": {},
     "output_type": "execute_result"
    }
   ],
   "source": [
    "MLAB = wb.DataReader('MOREPENLAB.NS', data_source= \"yahoo\", start = '2010-1-1')\n",
    "MLAB.head()"
   ]
  },
  {
   "cell_type": "code",
   "execution_count": 5,
   "metadata": {},
   "outputs": [
    {
     "name": "stdout",
     "output_type": "stream",
     "text": [
      "Date\n",
      "2010-01-04         NaN\n",
      "2010-01-05   -0.010638\n",
      "2010-01-06    0.005333\n",
      "2010-01-07   -0.005333\n",
      "2010-01-08    0.005333\n",
      "2010-01-11    0.010582\n",
      "2010-01-12    0.025975\n",
      "2010-01-13    0.035268\n",
      "2010-01-14    0.024451\n",
      "2010-01-15   -0.014599\n",
      "2010-01-18   -0.004914\n",
      "2010-01-19   -0.009901\n",
      "2010-01-20   -0.015038\n",
      "2010-01-21   -0.030772\n",
      "2010-01-22   -0.042560\n",
      "2010-01-25   -0.010929\n",
      "2010-01-27    0.094311\n",
      "2010-01-28   -0.077962\n",
      "2010-01-29   -0.032970\n",
      "2010-02-01    0.000000\n",
      "2010-02-02   -0.016902\n",
      "2010-02-03    0.011300\n",
      "2010-02-04   -0.016998\n",
      "2010-02-05   -0.040822\n",
      "2010-02-06         NaN\n",
      "2010-02-08         NaN\n",
      "2010-02-09   -0.011834\n",
      "2010-02-10   -0.005970\n",
      "2010-02-11    0.000000\n",
      "2010-02-15    0.000000\n",
      "                ...   \n",
      "2017-11-03   -0.010959\n",
      "2017-11-06    0.021799\n",
      "2017-11-07   -0.049734\n",
      "2017-11-08    0.005650\n",
      "2017-11-09    0.101692\n",
      "2017-11-10   -0.049554\n",
      "2017-11-13    0.031581\n",
      "2017-11-14   -0.007802\n",
      "2017-11-15   -0.007864\n",
      "2017-11-16    0.013072\n",
      "2017-11-17   -0.013072\n",
      "2017-11-20    0.130566\n",
      "2017-11-21   -0.032867\n",
      "2017-11-22   -0.002390\n",
      "2017-11-23    0.064837\n",
      "2017-11-24    0.000000\n",
      "2017-11-27    0.041718\n",
      "2017-11-28   -0.004310\n",
      "2017-11-29   -0.017430\n",
      "2017-11-30   -0.004405\n",
      "2017-12-01    0.128275\n",
      "2017-12-04    0.078398\n",
      "2017-12-05   -0.010830\n",
      "2017-12-06   -0.046434\n",
      "2017-12-07    0.053667\n",
      "2017-12-08   -0.010870\n",
      "2017-12-11   -0.067823\n",
      "2017-12-12   -0.023670\n",
      "2017-12-13   -0.004000\n",
      "2017-12-14   -0.010071\n",
      "Name: log_return, Length: 1969, dtype: float64\n"
     ]
    }
   ],
   "source": [
    "MLAB['log_return'] = np.log(MLAB['Adj Close']/MLAB['Adj Close'].shift(1))\n",
    "print(MLAB['log_return'])"
   ]
  },
  {
   "cell_type": "code",
   "execution_count": 6,
   "metadata": {},
   "outputs": [
    {
     "name": "stdout",
     "output_type": "stream",
     "text": [
      "0.166466230258\n"
     ]
    }
   ],
   "source": [
    "#Annual return\n",
    "log_return_a = MLAB['log_return'].mean() * 250\n",
    "print(log_return_a)"
   ]
  },
  {
   "cell_type": "code",
   "execution_count": 7,
   "metadata": {},
   "outputs": [
    {
     "name": "stdout",
     "output_type": "stream",
     "text": [
      "0.606180712982\n"
     ]
    }
   ],
   "source": [
    "#Risk\n",
    "risk = MLAB['log_return'].std() * 250**0.5\n",
    "print(risk)"
   ]
  }
 ],
 "metadata": {
  "kernelspec": {
   "display_name": "Python 3",
   "language": "python",
   "name": "python3"
  },
  "language_info": {
   "codemirror_mode": {
    "name": "ipython",
    "version": 3
   },
   "file_extension": ".py",
   "mimetype": "text/x-python",
   "name": "python",
   "nbconvert_exporter": "python",
   "pygments_lexer": "ipython3",
   "version": "3.5.2"
  }
 },
 "nbformat": 4,
 "nbformat_minor": 2
}
